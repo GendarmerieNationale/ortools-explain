{
 "cells": [
  {
   "cell_type": "markdown",
   "id": "8c58b530",
   "metadata": {},
   "source": [
    "# Installation\n",
    "\n",
    "This module is made to be an overlayer of the Google OR Tools cpsolver.\n",
    "It does not require any python library other than **ortools**.\n",
    "\n",
    "Full documention is available at : https://datalab-stsisi.github.io/\n",
    "\n",
    "# Overview\n",
    "\n",
    "The module enables you to perform in an easy way some operations on cp models:\n",
    "\n",
    "* Modelization of multiple objectives in a single model, with sequential or combined optimization\n",
    "* Modelization of relaxable constraints (constraints that are not mandatory but award bonuses if respected)\n",
    "* Explanation of infeasibility for infeasible problems\n",
    "* Local explanation of solution for feasible problems\n",
    "* Production of natural language explanations\n",
    "* Easier local optimization (LNS)"
   ]
  },
  {
   "cell_type": "markdown",
   "id": "f51b6e61",
   "metadata": {},
   "source": [
    "## 1- First example - explaining infeasibility\n",
    "\n",
    "We will create here a sudoku problem that is infeasible.\n",
    "\n",
    "### 1.1- Create a model"
   ]
  },
  {
   "cell_type": "code",
   "execution_count": 16,
   "id": "624a8fd2",
   "metadata": {},
   "outputs": [],
   "source": [
    "import ortools_explain\n",
    "\n",
    "from ortools_explain.model import SuperModel\n",
    "from ortools_explain.solver import SuperSolver\n",
    "from ortools_explain.status import Status"
   ]
  },
  {
   "cell_type": "markdown",
   "id": "f3d269a0",
   "metadata": {},
   "source": [
    "Create a cp_model by calling SuperModel():"
   ]
  },
  {
   "cell_type": "code",
   "execution_count": 17,
   "id": "e851fea6",
   "metadata": {},
   "outputs": [],
   "source": [
    "model = SuperModel()"
   ]
  },
  {
   "cell_type": "markdown",
   "id": "762c30d0",
   "metadata": {},
   "source": [
    "### 1.2- Define variables\n",
    "\n",
    "Define variables as you normally would, with NewBoolVar or NewIntVar."
   ]
  },
  {
   "cell_type": "code",
   "execution_count": 18,
   "id": "c5f5ed6b",
   "metadata": {},
   "outputs": [],
   "source": [
    "size_sudoku = 4\n",
    "x = {(i, j, v): model.NewBoolVar(\"x_%d_%d_%d\" % (i, j, v))\n",
    "         for i in range(size_sudoku) for j in range(size_sudoku)\n",
    "         for v in range(1, size_sudoku + 1)}"
   ]
  },
  {
   "cell_type": "markdown",
   "id": "5fe29680",
   "metadata": {},
   "source": [
    "### 1.3- Add constraints\n",
    "\n",
    "Constraints are added with functions Add and AddConstant.\n",
    "\n",
    "1/ We add the constraint that there must be one value and only one by square. We do not name this constraint because we consider it to be a fundamental part of our problem."
   ]
  },
  {
   "cell_type": "code",
   "execution_count": 19,
   "id": "5989f3a9",
   "metadata": {},
   "outputs": [],
   "source": [
    "for i in range(size_sudoku):\n",
    "    for j in range(size_sudoku):\n",
    "        model.Add(sum(x[i, j, v] for v in range(1, size_sudoku + 1)) == 1)"
   ]
  },
  {
   "cell_type": "markdown",
   "id": "7c6d8a21",
   "metadata": {},
   "source": [
    "2/ We add the constraint that there must be one value of each per line. We name these constraints \"all_different_line\" and we give it the dimension \"line\". This means that in our explanations for infeasible problems, we want the solver to be able to return which line is part of the problem. We could also have used both line and value as dimensions."
   ]
  },
  {
   "cell_type": "code",
   "execution_count": 20,
   "id": "530a5652",
   "metadata": {},
   "outputs": [],
   "source": [
    "for i in range(size_sudoku):\n",
    "    for v in range(1, size_sudoku + 1):\n",
    "        model.Add(sum(x[i, j, v] for j in range(size_sudoku)) == 1, \"all_different_line\", line=i + 1)"
   ]
  },
  {
   "cell_type": "markdown",
   "id": "de5cd7d7",
   "metadata": {},
   "source": [
    "3/ We add the same constraint for columns."
   ]
  },
  {
   "cell_type": "code",
   "execution_count": 22,
   "id": "d2cbe194",
   "metadata": {},
   "outputs": [],
   "source": [
    "for j in range(size_sudoku):\n",
    "    for v in range(1, size_sudoku + 1):\n",
    "        model.Add(sum(x[i, j, v] for i in range(size_sudoku)) == 1, \"all_different_column\", column=j + 1)"
   ]
  },
  {
   "cell_type": "markdown",
   "id": "f47ca5cc",
   "metadata": {},
   "source": [
    "4/ We add the same constraint for squares. Here we choose to use both the id of the square and the value as dimensions."
   ]
  },
  {
   "cell_type": "code",
   "execution_count": 23,
   "id": "e2c075cc",
   "metadata": {},
   "outputs": [],
   "source": [
    "k = int(sqrt(size_sudoku))\n",
    "for a in range(k):\n",
    "    for b in range(k):\n",
    "        for v in range(1, size_sudoku + 1):\n",
    "            list_cells = [x[i, j, v] for i in range(a * k, (a + 1) * k)\n",
    "                          for j in range(b * k, (b + 1) * k)]\n",
    "            model.Add(sum(x for x in list_cells) == 1, \"all_different_square\",\n",
    "                      square=str(a + 1) + \"_\" + str(b + 1), value=v)"
   ]
  },
  {
   "cell_type": "markdown",
   "id": "1c65ea51",
   "metadata": {},
   "source": [
    "5/ We add some initial values to make the problem infeasible. In OR Tools we would use the NewConstant function to do this. Here we use the AddConstant function instead. We also give these constraints a name and dimensions."
   ]
  },
  {
   "cell_type": "code",
   "execution_count": 26,
   "id": "875599ac",
   "metadata": {},
   "outputs": [],
   "source": [
    "initial_positions = [(0, 0, 1), (0, 1, 1), (2, 0, 3), (3, 0, 3), (3, 1, 3)]\n",
    "for row, col, value in initial_positions:\n",
    "    model.AddConstant(x[row, col, value], 1, \"initial_pos\", line=row+1, column=col+1, value=value)"
   ]
  },
  {
   "cell_type": "markdown",
   "id": "d2979dbc",
   "metadata": {},
   "source": [
    "### 1.4- (Optional) Add natural language explanations\n",
    "\n",
    "Use AddExplanation to match constraint types with natural language explanations. Explanations should ideally be declared for all combinations of dimensions being present or not, since the module will decide automatically which dimensions are relevant on one given instance."
   ]
  },
  {
   "cell_type": "code",
   "execution_count": 27,
   "id": "3bce9fd8",
   "metadata": {},
   "outputs": [],
   "source": [
    "model.AddExplanation(\"all_different_line\", \"All lines must contain each value once and only once\",\n",
    "                         \"{line}th line must contain each value once and only once\")\n",
    "\n",
    "model.AddExplanation(\"all_different_column\", \"All columns must contain each value once and only once\",\n",
    "                         \"{column}th column must contain each value once and only once\")\n",
    "\n",
    "model.AddExplanation(\"all_different_square\", \"All squares must contain each value once and only once\",\n",
    "                         \"Square {square} must contain each value once and only once\",\n",
    "                            \"All squares must contain value {value} once and only once\",\n",
    "                            \"Square {square} must contain value {value} once and only once\")\n",
    "\n",
    "model.AddExplanation(\"initial_pos\", \"Initial positions\", \"Initial positions on line {line}\",\n",
    "                         \"Initial positions on column {column}\", \"Initial positions of {value}\",\n",
    "                         \"Initial position on square ({line}, {column})\", \"Initial positions of {value} on line {line}\",\n",
    "                         \"Initial positions of {value} on column {column}\", \"The initial {value} at ({line}, {column})\")"
   ]
  },
  {
   "cell_type": "markdown",
   "id": "58dacebf",
   "metadata": {},
   "source": [
    "### 1.5- (Optional) Print the problem"
   ]
  },
  {
   "cell_type": "code",
   "execution_count": 32,
   "id": "427385c2",
   "metadata": {},
   "outputs": [
    {
     "name": "stdout",
     "output_type": "stream",
     "text": [
      "1 1 | . . \n",
      ". . | . . \n",
      "- - - - - \n",
      "3 . | . . \n",
      "3 3 | . . \n"
     ]
    }
   ],
   "source": [
    "tab_val = dict()\n",
    "for i in range(size_sudoku):\n",
    "    for j in range(size_sudoku):\n",
    "        tab_val[i, j] = '.'\n",
    "        for v in range(1, size_sudoku+1):\n",
    "            if (i, j, v) in initial_positions:\n",
    "                tab_val[i, j] = v\n",
    "                break\n",
    "\n",
    "n = size_sudoku\n",
    "k = int(sqrt(n))\n",
    "for i in range(n):\n",
    "    for j in range(n):\n",
    "        if tab_val[i, j]:\n",
    "            print(tab_val[i, j], end=\" \")\n",
    "        else:\n",
    "            print(\".\", end=\" \")\n",
    "        if j + 1 < n and (j + 1) % k == 0:\n",
    "            print(\"|\", end=\" \")\n",
    "    print()\n",
    "    if i + 1 < n and (i + 1) % k == 0:\n",
    "        print(\"- \" * (n + 1))"
   ]
  },
  {
   "cell_type": "markdown",
   "id": "5163af63",
   "metadata": {},
   "source": [
    "### 1.6- Try to solve the problem\n",
    "\n",
    "Create a cp_solver by calling SuperSolver().\n",
    "\n",
    "**Beware that as opposed to the standard OR Tools module, ortools_explain takes the model as argument when created**"
   ]
  },
  {
   "cell_type": "code",
   "execution_count": 33,
   "id": "a57ad46b",
   "metadata": {},
   "outputs": [],
   "source": [
    "solver = SuperSolver(model)"
   ]
  },
  {
   "cell_type": "markdown",
   "id": "2b791175",
   "metadata": {},
   "source": [
    "Call Solve() to get the status of the problem:"
   ]
  },
  {
   "cell_type": "code",
   "execution_count": 34,
   "id": "00b7f764",
   "metadata": {},
   "outputs": [
    {
     "data": {
      "text/plain": [
       "True"
      ]
     },
     "execution_count": 34,
     "metadata": {},
     "output_type": "execute_result"
    }
   ],
   "source": [
    "solver.Solve() == Status.INFEASIBLE"
   ]
  },
  {
   "cell_type": "markdown",
   "id": "4368db9a",
   "metadata": {},
   "source": [
    "### 1.7- Get explanations"
   ]
  },
  {
   "cell_type": "markdown",
   "id": "31e030f9",
   "metadata": {},
   "source": [
    "Minimum sets of constraints that make the problem infeasible are called IIS. Call ExplainWhyNoSolution() to get a set of iis. \n",
    "\n",
    "Please note that even if parameters are the same, ExplainWhyNoSolution is partly random and may not always return the same set of iis."
   ]
  },
  {
   "cell_type": "code",
   "execution_count": 40,
   "id": "29b35dda",
   "metadata": {},
   "outputs": [
    {
     "data": {
      "text/plain": [
       "[[{'sentence': '1th line must contain each value once and only once',\n",
       "   'type': 'all_different_line',\n",
       "   'dimensions': {'line': 1}},\n",
       "  {'sentence': 'The initial 1 at (1, 1)',\n",
       "   'type': 'initial_pos',\n",
       "   'dimensions': {'column': 1, 'line': 1, 'value': 1}},\n",
       "  {'sentence': 'The initial 1 at (1, 2)',\n",
       "   'type': 'initial_pos',\n",
       "   'dimensions': {'column': 2, 'line': 1, 'value': 1}}],\n",
       " [{'sentence': '4th line must contain each value once and only once',\n",
       "   'type': 'all_different_line',\n",
       "   'dimensions': {'line': 4}},\n",
       "  {'sentence': 'The initial 3 at (4, 1)',\n",
       "   'type': 'initial_pos',\n",
       "   'dimensions': {'column': 1, 'line': 4, 'value': 3}},\n",
       "  {'sentence': 'The initial 3 at (4, 2)',\n",
       "   'type': 'initial_pos',\n",
       "   'dimensions': {'column': 2, 'line': 4, 'value': 3}}]]"
      ]
     },
     "execution_count": 40,
     "metadata": {},
     "output_type": "execute_result"
    }
   ],
   "source": [
    "solver.ExplainWhyNoSolution()"
   ]
  },
  {
   "cell_type": "markdown",
   "id": "4851f946",
   "metadata": {},
   "source": [
    "ExplainWhyNoSolution() has a number of optional parameters that you can use to finetune the set of constraints that is returned.\n",
    "\n",
    "**find_several_iis** is set to True by default. If False, it will only return one set of constraints that makes the problem infeasible. If True, it will return a set of not-overlapping conflicts that is maximum in size (deactivating all constraints of all these conflicts is sufficient but not necessary to make the problem feasible)."
   ]
  },
  {
   "cell_type": "code",
   "execution_count": 39,
   "id": "aec4e90e",
   "metadata": {},
   "outputs": [
    {
     "data": {
      "text/plain": [
       "[[{'sentence': '1th line must contain each value once and only once',\n",
       "   'type': 'all_different_line',\n",
       "   'dimensions': {'line': 1}},\n",
       "  {'sentence': 'The initial 1 at (1, 1)',\n",
       "   'type': 'initial_pos',\n",
       "   'dimensions': {'column': 1, 'line': 1, 'value': 1}},\n",
       "  {'sentence': 'The initial 1 at (1, 2)',\n",
       "   'type': 'initial_pos',\n",
       "   'dimensions': {'column': 2, 'line': 1, 'value': 1}}]]"
      ]
     },
     "execution_count": 39,
     "metadata": {},
     "output_type": "execute_result"
    }
   ],
   "source": [
    "solver.ExplainWhyNoSolution(find_several_iis = False)"
   ]
  },
  {
   "cell_type": "markdown",
   "id": "e6c9dfe7",
   "metadata": {},
   "source": [
    "**method_for_search** must be one of SuperSolver.SUFFICIENT_ASSUMPTION, SuperSolver.QUICK_XPLAIN or SuperSolver.PARALLEL_SEARCH (default - runs the other two methods in two threads and returns the fastest one).\n",
    "\n",
    "All methods should work on all problems but some are faster than others depending on the problem. However using one or the other method will most likely result in different sets of iis."
   ]
  },
  {
   "cell_type": "code",
   "execution_count": 41,
   "id": "55943d69",
   "metadata": {},
   "outputs": [
    {
     "data": {
      "text/plain": [
       "[[{'sentence': '1th line must contain each value once and only once',\n",
       "   'type': 'all_different_line',\n",
       "   'dimensions': {'line': 1}},\n",
       "  {'sentence': 'The initial 1 at (1, 1)',\n",
       "   'type': 'initial_pos',\n",
       "   'dimensions': {'column': 1, 'line': 1, 'value': 1}},\n",
       "  {'sentence': 'The initial 1 at (1, 2)',\n",
       "   'type': 'initial_pos',\n",
       "   'dimensions': {'column': 2, 'line': 1, 'value': 1}}]]"
      ]
     },
     "execution_count": 41,
     "metadata": {},
     "output_type": "execute_result"
    }
   ],
   "source": [
    "solver.ExplainWhyNoSolution(find_several_iis = False, method_for_search = SuperSolver.SUFFICIENT_ASSUMPTION)"
   ]
  },
  {
   "cell_type": "code",
   "execution_count": 42,
   "id": "13461690",
   "metadata": {},
   "outputs": [
    {
     "data": {
      "text/plain": [
       "[[{'sentence': '1th column must contain each value once and only once',\n",
       "   'type': 'all_different_column',\n",
       "   'dimensions': {'column': 1}},\n",
       "  {'sentence': 'The initial 3 at (3, 1)',\n",
       "   'type': 'initial_pos',\n",
       "   'dimensions': {'column': 1, 'line': 3, 'value': 3}},\n",
       "  {'sentence': 'The initial 3 at (4, 1)',\n",
       "   'type': 'initial_pos',\n",
       "   'dimensions': {'column': 1, 'line': 4, 'value': 3}}]]"
      ]
     },
     "execution_count": 42,
     "metadata": {},
     "output_type": "execute_result"
    }
   ],
   "source": [
    "solver.ExplainWhyNoSolution(find_several_iis = False, method_for_search = SuperSolver.QUICK_XPLAIN)"
   ]
  },
  {
   "cell_type": "markdown",
   "id": "155f0e08",
   "metadata": {},
   "source": [
    "**zoom_level** enables you to balance the precision of the result and its size. If zoom_level is high, the result may be of large size but its members will be precise (they will use most dimensions). If zoom_level is low, the result will be of smaller size but constraints in the result will be less precise. "
   ]
  },
  {
   "cell_type": "code",
   "execution_count": 48,
   "id": "bb67757d",
   "metadata": {},
   "outputs": [
    {
     "data": {
      "text/plain": [
       "[[{'sentence': '1th line must contain each value once and only once',\n",
       "   'type': 'all_different_line',\n",
       "   'dimensions': {'line': 1}},\n",
       "  {'sentence': 'Initial positions of 1 on line 1',\n",
       "   'type': 'initial_pos',\n",
       "   'dimensions': {'line': 1, 'value': 1}}]]"
      ]
     },
     "execution_count": 48,
     "metadata": {},
     "output_type": "execute_result"
    }
   ],
   "source": [
    "solver.ExplainWhyNoSolution(find_several_iis = False, zoom_level = 1)"
   ]
  },
  {
   "cell_type": "code",
   "execution_count": 49,
   "id": "31b46ffa",
   "metadata": {},
   "outputs": [
    {
     "data": {
      "text/plain": [
       "[[{'sentence': '1th line must contain each value once and only once',\n",
       "   'type': 'all_different_line',\n",
       "   'dimensions': {'line': 1}},\n",
       "  {'sentence': 'The initial 1 at (1, 1)',\n",
       "   'type': 'initial_pos',\n",
       "   'dimensions': {'column': 1, 'line': 1, 'value': 1}},\n",
       "  {'sentence': 'The initial 1 at (1, 2)',\n",
       "   'type': 'initial_pos',\n",
       "   'dimensions': {'column': 2, 'line': 1, 'value': 1}}]]"
      ]
     },
     "execution_count": 49,
     "metadata": {},
     "output_type": "execute_result"
    }
   ],
   "source": [
    "solver.ExplainWhyNoSolution(find_several_iis = False, zoom_level = 2)"
   ]
  },
  {
   "cell_type": "markdown",
   "id": "c2cb3749",
   "metadata": {},
   "source": [
    "## 2- Second example - solving with multiple objectives\n",
    "\n",
    "Here we will create an empty 9*9 sudoku grid to illustrate optimization.\n",
    "\n",
    "### 2.1- Create a sudoku grid\n",
    "\n",
    "We create an empty sudoku grid as we did above, by defining variables and constraints."
   ]
  },
  {
   "cell_type": "code",
   "execution_count": 54,
   "id": "e16c8b5c",
   "metadata": {},
   "outputs": [],
   "source": [
    "model = SuperModel()\n",
    "\n",
    "size_sudoku = 9\n",
    "x = {(i, j, v): model.NewBoolVar(\"x_%d_%d_%d\" % (i, j, v))\n",
    "         for i in range(size_sudoku) for j in range(size_sudoku)\n",
    "         for v in range(1, size_sudoku + 1)}\n",
    "\n",
    "for i in range(size_sudoku):\n",
    "    for j in range(size_sudoku):\n",
    "        model.Add(sum(x[i, j, v] for v in range(1, size_sudoku + 1)) == 1)\n",
    "        \n",
    "for i in range(size_sudoku):\n",
    "    for v in range(1, size_sudoku + 1):\n",
    "        model.Add(sum(x[i, j, v] for j in range(size_sudoku)) == 1, \"all_different_line\", line=i + 1)\n",
    "        \n",
    "for j in range(size_sudoku):\n",
    "    for v in range(1, size_sudoku + 1):\n",
    "        model.Add(sum(x[i, j, v] for i in range(size_sudoku)) == 1, \"all_different_column\", column=j + 1)\n",
    "        \n",
    "k = int(sqrt(size_sudoku))\n",
    "for a in range(k):\n",
    "    for b in range(k):\n",
    "        for v in range(1, size_sudoku + 1):\n",
    "            list_cells = [x[i, j, v] for i in range(a * k, (a + 1) * k)\n",
    "                          for j in range(b * k, (b + 1) * k)]\n",
    "            model.Add(sum(x for x in list_cells) == 1, \"all_different_square\",\n",
    "                      square=str(a + 1) + \"_\" + str(b + 1), value=v)"
   ]
  },
  {
   "cell_type": "markdown",
   "id": "7df984c7",
   "metadata": {},
   "source": [
    "### 2.2- Define objectives\n",
    "\n",
    "Here we decide to add some objectives on this grid. The objectives are the following:\n",
    "\n",
    "* Top-priority:\n",
    "    * Put a 1 on the square on all squares of the first diagonal\n",
    "* Mid-level priority:\n",
    "    * Maximize the sum of the first diagonal\n",
    "* Low priority:\n",
    "    * Minimize the sum of the second diagonal\n",
    "    * Put a 9 in the top right corner\n",
    "    \n",
    "In our module, objectives are added with functions AddRelaxableConstraint, AddMaximumObjective and AddMinimumObjective, along with a priority. The module will consider objectives by increasing order of priority.\n",
    "    \n",
    "#### 2.2.1- Defining not mandatory constraints\n",
    "\n",
    "To implement the top-priority constraint, we use the AddRelaxable function. This function allows you to add a constraint that is not mandatory but awards points if respected."
   ]
  },
  {
   "cell_type": "code",
   "execution_count": 55,
   "id": "1691335f",
   "metadata": {},
   "outputs": [],
   "source": [
    "for i in range(size_sudoku):\n",
    "    model.AddRelaxableConstraint(x[i, i, 1] == 1, idx=\"Numbers of 1 on first diagonal\", coef=1, priority=1)"
   ]
  },
  {
   "cell_type": "markdown",
   "id": "1c21363c",
   "metadata": {},
   "source": [
    "#### 2.2.2- Defining partial objectives\n",
    "\n",
    "To implement the mid-level priority, we use the AddMaximumObjective function."
   ]
  },
  {
   "cell_type": "code",
   "execution_count": 56,
   "id": "cfb8d5ad",
   "metadata": {},
   "outputs": [],
   "source": [
    "model.AddMaximumObjective(sum(v * x[i, i, v] for i in range(size_sudoku) for v in range(1, size_sudoku + 1)), priority=2,\n",
    "                              idx='Maximize sum of first diagonal')"
   ]
  },
  {
   "cell_type": "markdown",
   "id": "1a690a61",
   "metadata": {},
   "source": [
    "#### 2.2.3- Balancing objectives\n",
    "\n",
    "You may want to define several objectives with the same priority, because they are conflicting and you want to find a solution that balances them. In this case, you could use coefficients to give additional importance to one of the conflicts."
   ]
  },
  {
   "cell_type": "code",
   "execution_count": 57,
   "id": "1ba6a8a6",
   "metadata": {},
   "outputs": [],
   "source": [
    "coef_for_sum = 3\n",
    "coef_for_top_right_corner = 40\n",
    "\n",
    "model.AddMinimumObjective(coef_for_sum * sum(v * x[i, size_sudoku - 1 - i, v] for i in range(size_sudoku) for v in range(1, size_sudoku + 1)),\n",
    "                              priority=3, idx='Minimize sum of second diagonal')\n",
    "model.AddRelaxableConstraint(x[0, 8, 9] == 1, idx=\"Top left square should be a 9\", coef=coef_for_top_right_corner, priority=3)"
   ]
  },
  {
   "cell_type": "markdown",
   "id": "9d50701e",
   "metadata": {},
   "source": [
    "### 2.3- Solve the problem"
   ]
  },
  {
   "cell_type": "code",
   "execution_count": 62,
   "id": "4fc3a603",
   "metadata": {},
   "outputs": [
    {
     "data": {
      "text/plain": [
       "True"
      ]
     },
     "execution_count": 62,
     "metadata": {},
     "output_type": "execute_result"
    }
   ],
   "source": [
    "my_solver = SuperSolver(model)\n",
    "status = my_solver.Solve()\n",
    "status == Status.OPTIMAL"
   ]
  },
  {
   "cell_type": "markdown",
   "id": "653b1f74",
   "metadata": {},
   "source": [
    "### 2.4- Print the result"
   ]
  },
  {
   "cell_type": "code",
   "execution_count": 70,
   "id": "e1e22f88",
   "metadata": {},
   "outputs": [],
   "source": [
    "def write_result(solver, x):\n",
    "    size_sudoku = 9\n",
    "    tab_val = dict()\n",
    "    for i in range(size_sudoku):\n",
    "        for j in range(size_sudoku):\n",
    "            tab_val[i, j] = '.'\n",
    "            for v in range(1, size_sudoku+1):\n",
    "                if solver.Value(x[i, j, v]):\n",
    "                    tab_val[i, j] = v\n",
    "                    break\n",
    "    n = size_sudoku\n",
    "    k = int(sqrt(n))\n",
    "    for i in range(n):\n",
    "        for j in range(n):\n",
    "            if tab_val[i, j]:\n",
    "                print(tab_val[i, j], end=\" \")\n",
    "            else:\n",
    "                print(\".\", end=\" \")\n",
    "            if j + 1 < n and (j + 1) % k == 0:\n",
    "                print(\"|\", end=\" \")\n",
    "        print()\n",
    "        if i + 1 < n and (i + 1) % k == 0:\n",
    "            print(\"- \" * (n + 2))"
   ]
  },
  {
   "cell_type": "code",
   "execution_count": 71,
   "id": "319c4729",
   "metadata": {},
   "outputs": [
    {
     "name": "stdout",
     "output_type": "stream",
     "text": [
      "1 7 4 | 8 2 5 | 3 6 9 \n",
      "5 9 6 | 1 7 3 | 4 2 8 \n",
      "3 2 8 | 4 9 6 | 1 7 5 \n",
      "- - - - - - - - - - - \n",
      "6 1 7 | 9 4 2 | 5 8 3 \n",
      "8 5 3 | 6 1 7 | 9 4 2 \n",
      "9 4 2 | 3 5 8 | 6 1 7 \n",
      "- - - - - - - - - - - \n",
      "7 6 1 | 2 3 9 | 8 5 4 \n",
      "4 3 5 | 7 8 1 | 2 9 6 \n",
      "2 8 9 | 5 6 4 | 7 3 1 \n"
     ]
    }
   ],
   "source": [
    "write_result(my_solver, x)"
   ]
  },
  {
   "cell_type": "markdown",
   "id": "342e7597",
   "metadata": {},
   "source": [
    "### 2.5- Get local explanations\n",
    "\n",
    "Ortools_explain enables you to explain why some variables were set to their value in the current solution.\n",
    "\n",
    "#### Explain why there is a 1 in the top left corner"
   ]
  },
  {
   "cell_type": "code",
   "execution_count": 69,
   "id": "ba2b695c",
   "metadata": {},
   "outputs": [
    {
     "name": "stdout",
     "output_type": "stream",
     "text": [
      "as_optimal\n"
     ]
    }
   ],
   "source": [
    "print(my_solver.ExplainValueOfVar(x[0, 0, 1])['outcome'])"
   ]
  },
  {
   "cell_type": "markdown",
   "id": "d01e8816",
   "metadata": {},
   "source": [
    "This means that it is possible to find a solution that is as optimal as the previous one where there is no 1 on the top left corner. In this case, the module also returns the list of variables that have changed in the new solution:"
   ]
  },
  {
   "cell_type": "code",
   "execution_count": 68,
   "id": "75b2392b",
   "metadata": {},
   "outputs": [
    {
     "name": "stdout",
     "output_type": "stream",
     "text": [
      "[{'name': 'x_0_0_1', 'old_value': 1, 'new_value': 0}, {'name': 'x_0_0_8', 'old_value': 0, 'new_value': 1}, {'name': 'x_0_1_6', 'old_value': 0, 'new_value': 1}, {'name': 'x_0_1_7', 'old_value': 1, 'new_value': 0}, {'name': 'x_0_3_1', 'old_value': 0, 'new_value': 1}, {'name': 'x_0_3_3', 'old_value': 1, 'new_value': 0}, {'name': 'x_0_4_4', 'old_value': 1, 'new_value': 0}, {'name': 'x_0_4_5', 'old_value': 0, 'new_value': 1}, {'name': 'x_0_5_4', 'old_value': 0, 'new_value': 1}, {'name': 'x_0_5_6', 'old_value': 1, 'new_value': 0}]\n"
     ]
    }
   ],
   "source": [
    "print(my_solver.ExplainValueOfVar(x[0, 0, 1])['changed_variables'][:10])"
   ]
  },
  {
   "cell_type": "markdown",
   "id": "14dc820c",
   "metadata": {},
   "source": [
    "#### Explain why there is a 9 in the top right corner"
   ]
  },
  {
   "cell_type": "code",
   "execution_count": 73,
   "id": "acaf7f87",
   "metadata": {},
   "outputs": [
    {
     "name": "stdout",
     "output_type": "stream",
     "text": [
      "{'outcome': 'less_optimal', 'optimization_scores': {'old_value': [3, 54, -32], 'new_value': [3, 54, -54]}, 'objective_values': [{'id': 'Numbers of 1 on first diagonal', 'old_value': 3, 'new_value': 3}, {'id': 'Maximize sum of first diagonal', 'old_value': 54, 'new_value': 54}, {'id': 'Minimize sum of second diagonal', 'old_value': 72, 'new_value': 54}, {'id': 'Top left square should be a 9', 'old_value': 1, 'new_value': 0}]}\n"
     ]
    }
   ],
   "source": [
    "print(my_solver.ExplainValueOfVar(x[0, 8, 9]))"
   ]
  },
  {
   "cell_type": "markdown",
   "id": "b0651c59",
   "metadata": {},
   "source": [
    "This means that removing the 9 from this square leads to a lower optimisation value at rank 3."
   ]
  },
  {
   "cell_type": "markdown",
   "id": "67363ae0",
   "metadata": {},
   "source": [
    "#### Explain why the sum of the first diagonal is higher than the sum of the second diagonal"
   ]
  },
  {
   "cell_type": "code",
   "execution_count": 75,
   "id": "52f8ed60",
   "metadata": {},
   "outputs": [
    {
     "name": "stdout",
     "output_type": "stream",
     "text": [
      "{'outcome': 'less_optimal', 'optimization_scores': {'old_value': [3, 54, -32], 'new_value': [3, 54, -122]}, 'objective_values': [{'id': 'Numbers of 1 on first diagonal', 'old_value': 3, 'new_value': 3}, {'id': 'Maximize sum of first diagonal', 'old_value': 54, 'new_value': 54}, {'id': 'Minimize sum of second diagonal', 'old_value': 72, 'new_value': 162}, {'id': 'Top left square should be a 9', 'old_value': 1, 'new_value': 1}]}\n"
     ]
    }
   ],
   "source": [
    "explanation = my_solver.ExplainWhyNot(sum(v * x[i, i, v] for i in range(size_sudoku) for v in range(1, size_sudoku + 1)) <=\n",
    "                                              sum(v * x[i, size_sudoku - 1 - i, v] for i in range(size_sudoku) for v in range(1, size_sudoku + 1)))\n",
    "print(explanation)"
   ]
  },
  {
   "cell_type": "markdown",
   "id": "88a4b0f8",
   "metadata": {},
   "source": [
    "#### Explain why the sum of the first line is 45"
   ]
  },
  {
   "cell_type": "code",
   "execution_count": 76,
   "id": "053f7a59",
   "metadata": {},
   "outputs": [
    {
     "name": "stdout",
     "output_type": "stream",
     "text": [
      "{'outcome': 'infeasible'}\n"
     ]
    }
   ],
   "source": [
    "print(my_solver.ExplainWhyNot(sum(v * x[0, j, v] for j in range(size_sudoku) for v in range(1, size_sudoku + 1)) != 45))"
   ]
  },
  {
   "cell_type": "markdown",
   "id": "3e862a39",
   "metadata": {},
   "source": [
    "This means that if we force the sum of the first line not to be 45, the model becomes infeasible."
   ]
  }
 ],
 "metadata": {
  "kernelspec": {
   "display_name": "Python 3 (ipykernel)",
   "language": "python",
   "name": "python3"
  },
  "language_info": {
   "codemirror_mode": {
    "name": "ipython",
    "version": 3
   },
   "file_extension": ".py",
   "mimetype": "text/x-python",
   "name": "python",
   "nbconvert_exporter": "python",
   "pygments_lexer": "ipython3",
   "version": "3.8.10"
  }
 },
 "nbformat": 4,
 "nbformat_minor": 5
}
